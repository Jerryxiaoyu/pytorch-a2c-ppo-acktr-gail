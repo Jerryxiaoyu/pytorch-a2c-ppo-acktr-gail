{
 "cells": [
  {
   "cell_type": "code",
   "execution_count": 30,
   "metadata": {
    "collapsed": true
   },
   "outputs": [],
   "source": [
    "root_path = '/home/drl/PycharmProjects/rl_baselines/pytorch-a2c-ppo-acktr'\n",
    "import os \n",
    "os.chdir(root_path)\n",
    "import numpy as np\n",
    "import pandas as pd\n",
    "import matplotlib.pyplot as plt\n",
    " \n",
    "from utils import IO\n",
    "from utils.Logger import LoggerCsv\n",
    "from eval.plot_results import *"
   ]
  },
  {
   "cell_type": "markdown",
   "metadata": {
    "collapsed": true
   },
   "source": [
    " v_e = eval_data_df.loc[:, '1':'6'].values\n",
    "\n",
    "c_command = eval_data_df.loc[:, '7':'9'].values\n",
    "\n",
    "xyz = eval_data_df.loc[:, '10':'12'].values"
   ]
  },
  {
   "cell_type": "code",
   "execution_count": 31,
   "metadata": {},
   "outputs": [
    {
     "data": {
      "text/plain": [
       "['log_contact_cons150.pkl',\n",
       " 'log_contact_cons200.pkl',\n",
       " 'log_contact_cons75.pkl',\n",
       " 'log_contact_cons100.pkl',\n",
       " 'log_contact_cons50.pkl',\n",
       " 'log_contact_cons175.pkl',\n",
       " 'log_contact_cons5.pkl']"
      ]
     },
     "execution_count": 31,
     "metadata": {},
     "output_type": "execute_result"
    }
   ],
   "source": [
    "#GA_data_path = 'eval/results_any/F1_straight_line_ga_rl/originals/GA_straight_line'\n",
    "\n",
    "exp_id = 23\n",
    " \n",
    "RL_data_path = 'eval/results_any/F5_contact_phase/originals'\n",
    "save_fig_path = 'eval/results_any/F5_contact_phase'\n",
    "command_list = [50,75,100,125,150,175,200]\n",
    " \n",
    " \n",
    "max_step = 2000\n",
    "dt = 0.01\n",
    "exp_data_path = os.path.join(RL_data_path, 'No23')\n",
    "exp_dir_list = os.listdir(exp_data_path)\n",
    "exp_dir_list"
   ]
  },
  {
   "cell_type": "code",
   "execution_count": 32,
   "metadata": {
    "collapsed": true
   },
   "outputs": [],
   "source": [
    "robot_contact_list ={\n",
    "     'LF':[20,21,22, 23,24,25], #'LF'\n",
    "    'LH':[38,39,40,41,42,43],#'LH'\n",
    "    'RF':[56,57,58,59,60,61,], #'RF'\n",
    "   'RH':[74,75,76,77,78,79] # 'RH'\n",
    "}\n",
    "\n",
    "def get_LegIndex(step):\n",
    "    c_info = contact_infos[step]\n",
    "    c_pos = np.zeros(4)\n",
    "    for i in range(len(c_info)):\n",
    "        if c_info[i] in robot_contact_list['LF']:\n",
    "            c_pos[0] =1\n",
    "        elif c_info[i] in robot_contact_list['LH']:\n",
    "            c_pos[1] =1\n",
    "\n",
    "        elif c_info[i] in robot_contact_list['RF']:\n",
    "            c_pos[2] =1\n",
    "        elif c_info[i] in robot_contact_list['RH']:\n",
    "            c_pos[3] =1\n",
    "\n",
    "    #print(c_pos)\n",
    "    return c_pos"
   ]
  },
  {
   "cell_type": "code",
   "execution_count": 33,
   "metadata": {},
   "outputs": [
    {
     "data": {
      "text/plain": [
       "(2000, 4)"
      ]
     },
     "execution_count": 33,
     "metadata": {},
     "output_type": "execute_result"
    }
   ],
   "source": [
    "exp_id = 2\n",
    "\n",
    "contact_infos = IO(os.path.join(exp_data_path,exp_dir_list[exp_id] )).read_pickle()   \n",
    "\n",
    "n = len(contact_infos)\n",
    "contact_nums =[]\n",
    "contact_pos = []\n",
    "\n",
    "for step in range(n):\n",
    "    c_n = len(contact_infos[step])\n",
    "    contact_nums.append(c_n)\n",
    "    \n",
    "    contact_pos.append(get_LegIndex(step))\n",
    "\n",
    "contact_pos = np.array(contact_pos)\n",
    "contact_nums = np.array(contact_nums)\n",
    "contact_pos.shape\n",
    "\n"
   ]
  },
  {
   "cell_type": "code",
   "execution_count": 34,
   "metadata": {},
   "outputs": [
    {
     "data": {
      "image/png": "[encoded data removed]",
      "text/plain": [
       "<Figure size 720x288 with 1 Axes>"
      ]
     },
     "metadata": {
      "needs_background": "light"
     },
     "output_type": "display_data"
    }
   ],
   "source": [
    "plt.figure(figsize=(10,4))\n",
    "contact_data = contact_pos *(np.array([4,3,2,1]))\n",
    "start = 1090\n",
    "max_step = 1400\n",
    "t =  np.arange(start *0.01, max_step * 0.01, 0.01)\n",
    "plt.scatter(t, contact_data[start:max_step,0])\n",
    "plt.scatter(t, contact_data[start:max_step,1])\n",
    "plt.scatter(t, contact_data[start:max_step,2])\n",
    "plt.scatter(t, contact_data[start:max_step,3])\n",
    "\n",
    "plt.grid()"
   ]
  },
  {
   "cell_type": "code",
   "execution_count": 35,
   "metadata": {},
   "outputs": [],
   "source": [
    "#get_data_fig \n",
    "\n",
    "least_length = 1\n",
    "\n",
    "segment_list = {}\n",
    "\n",
    "LF_data = contact_data[start:max_step,3]\n",
    "\n",
    "con_data = LF_data\n",
    "new = 1\n",
    "cur_pos = 0\n",
    "last_value = 0\n",
    "for i in range(con_data.shape[0]):\n",
    " \n",
    "    if con_data[i] >0:\n",
    "        if last_value == 0:\n",
    "            new =1\n",
    "            cur_pos +=1\n",
    "            segment_list[cur_pos] =[i, 1]\n",
    "            \n",
    "        elif last_value >0:\n",
    "            new = 0\n",
    "            segment_list[cur_pos][1] += 1\n",
    "        else:\n",
    "            raise Exception('unexpected!')\n",
    "     \n",
    "        \n",
    "    last_value = con_data[i]\n",
    "            \n",
    "\n",
    " "
   ]
  },
  {
   "cell_type": "code",
   "execution_count": 68,
   "metadata": {},
   "outputs": [
    {
     "data": {
      "text/plain": [
       "array([1., 1., 1., 1., 1., 1., 1., 1., 0., 1., 1., 0., 0., 1., 1., 1., 1.,\n",
       "       0., 1., 1., 1., 1., 1., 1., 1., 1., 1., 1., 1., 1., 1., 1., 1., 1.,\n",
       "       1., 1., 1., 0., 1., 1., 0., 1., 1., 0., 0., 0., 0., 1., 0., 0., 0.,\n",
       "       0., 0., 0., 0., 0., 0., 0., 1., 0., 0., 0., 0., 0., 0., 0., 0., 0.,\n",
       "       0., 0., 0., 0., 0., 0., 0., 0., 0., 0., 0., 0., 0., 0., 0., 0., 0.,\n",
       "       0., 0., 0., 0., 0., 0., 0., 0., 0., 0., 0., 0., 0., 0., 1., 1., 1.,\n",
       "       1., 1., 1., 1., 1., 1., 0., 1., 1., 1., 1., 1., 1., 1., 1., 1., 1.,\n",
       "       1., 1., 1., 1., 1., 1., 1., 1., 1., 1., 1., 1., 0., 0., 1., 1., 1.,\n",
       "       0., 1., 1., 1., 1., 0., 0., 0., 1., 1., 1., 0., 0., 0., 0., 0., 0.,\n",
       "       0., 0., 0., 0., 0., 0., 0., 0., 0., 1., 0., 0., 0., 0., 0., 0., 0.,\n",
       "       0., 0., 0., 0., 0., 0., 0., 0., 0., 0., 0., 0., 0., 0., 0., 0., 0.,\n",
       "       0., 0., 0., 0., 0., 0., 0., 0., 0., 0., 0., 1., 1., 1., 1., 1., 1.,\n",
       "       1., 1., 1., 0., 0., 1., 1., 1., 1., 1., 1., 1., 1., 1., 1., 1., 1.,\n",
       "       1., 1., 1., 1., 1., 1., 1., 1., 1., 1., 1., 1., 1., 1., 1., 1., 0.,\n",
       "       1., 1., 1., 0., 0., 1., 1., 1., 0., 0., 0., 0., 0., 0., 0., 0., 0.,\n",
       "       0., 0., 0., 0., 0., 0., 0., 0., 0., 1., 1., 0., 0., 0., 0., 0., 0.,\n",
       "       0., 0., 0., 0., 0., 0., 0., 0., 0., 0., 0., 0., 0., 0., 0., 0., 0.,\n",
       "       0., 0., 0., 0., 0., 0., 0., 1., 1., 1., 1., 1., 1., 1., 1., 1., 1.,\n",
       "       1., 1., 1., 0.])"
      ]
     },
     "execution_count": 68,
     "metadata": {},
     "output_type": "execute_result"
    }
   ],
   "source": [
    "LF_data"
   ]
  },
  {
   "cell_type": "code",
   "execution_count": 69,
   "metadata": {},
   "outputs": [
    {
     "data": {
      "text/plain": [
       "{1: [0, 8],\n",
       " 2: [9, 2],\n",
       " 3: [13, 4],\n",
       " 4: [18, 19],\n",
       " 5: [38, 2],\n",
       " 6: [41, 2],\n",
       " 7: [47, 1],\n",
       " 8: [58, 1],\n",
       " 9: [99, 9],\n",
       " 10: [109, 22],\n",
       " 11: [133, 3],\n",
       " 12: [137, 4],\n",
       " 13: [144, 3],\n",
       " 14: [162, 1],\n",
       " 15: [198, 9],\n",
       " 16: [209, 28],\n",
       " 17: [238, 3],\n",
       " 18: [243, 3],\n",
       " 19: [264, 2],\n",
       " 20: [296, 13]}"
      ]
     },
     "execution_count": 69,
     "metadata": {},
     "output_type": "execute_result"
    }
   ],
   "source": [
    "segment_list"
   ]
  },
  {
   "cell_type": "code",
   "execution_count": null,
   "metadata": {
    "collapsed": true
   },
   "outputs": [],
   "source": [
    "segment_dealed_list={}\n",
    "for i in range(2, len(segment_list)+1):\n",
    "    print(i)\n",
    "    blank_length = segment_list[i][0] - (segment_list[i-1][0]+segment_list[i-1][1])\n",
    "    if  blank_length < 3:\n",
    "        \n",
    "        segment_list[i-1][1] += (segment_list[i][1] +blank_length)\n",
    "        \n",
    "        segment_list.pop(i)"
   ]
  },
  {
   "cell_type": "code",
   "execution_count": 70,
   "metadata": {},
   "outputs": [
    {
     "data": {
      "text/plain": [
       "dict_values([[0, 8], [9, 2], [13, 4], [18, 19], [38, 2], [41, 2], [47, 1], [58, 1], [99, 9], [109, 22], [133, 3], [137, 4], [144, 3], [162, 1], [198, 9], [209, 28], [238, 3], [243, 3], [264, 2], [296, 13]])"
      ]
     },
     "execution_count": 70,
     "metadata": {},
     "output_type": "execute_result"
    }
   ],
   "source": [
    "segment_list.values()"
   ]
  },
  {
   "cell_type": "code",
   "execution_count": 38,
   "metadata": {},
   "outputs": [
    {
     "data": {
      "image/png": "[encoded data removed]",
      "text/plain": [
       "<Figure size 240.945x96.378 with 1 Axes>"
      ]
     },
     "metadata": {
      "needs_background": "light"
     },
     "output_type": "display_data"
    }
   ],
   "source": [
    "\n",
    "figsize = 8,3\n",
    "time_duation = 3.1\n",
    "high_each = 5\n",
    " \n",
    "lf_t = [[0, 43], [92, 41], [192,  49], [289,21]]\n",
    "rf_t =  [[42,  40], [140,  51], [241, 48]]\n",
    "lh_t = [[48,  51],[148,  49],[247,  60]]\n",
    "rh_t = [[0,  48],  [99,  48],   [198,  48],  [296, 14]]\n",
    "\n",
    "def step2time(a):\n",
    "    return (np.array(a)*0.01).tolist()\n",
    "lf_t = step2time(lf_t)\n",
    "rf_t = step2time(rf_t)\n",
    "lh_t = step2time(lh_t)\n",
    "rh_t = step2time(rh_t)\n",
    "\n",
    "plt.rcParams['xtick.direction'] = 'in' \n",
    "plt.rcParams['ytick.direction'] = 'in' \n",
    "\n",
    "fig, ax = plt.subplots(figsize = figsize)\n",
    "high_each =5\n",
    "d=2\n",
    "ax.broken_barh( lf_t,  (3*high_each+4*d, high_each), facecolors='red')\n",
    "ax.broken_barh( rf_t, (2*high_each+3*d, high_each), facecolors='teal')\n",
    "ax.broken_barh( lh_t, (high_each+2*d, high_each), facecolors='maroon')\n",
    "ax.broken_barh( rh_t, (d, high_each), facecolors='orange')\n",
    "\n",
    " \n",
    "# 创建两条线，并添加\n",
    "from matplotlib.lines import Line2D\n",
    "line1 = [(0.6, 1), (0.6, 29)]\n",
    "line2 = [(1.2, 1), (1.2, 29)]\n",
    "line3 = [(1.8, 1), (1.8, 29)]\n",
    "line4 = [(2.4, 1), (2.4, 29)]\n",
    "line5 = [(3.0, 1), (3.0, 29)]\n",
    "(line1_xs, line1_ys) = zip(*line1)\n",
    "(line2_xs, line2_ys) = zip(*line2)\n",
    "(line3_xs, line3_ys) = zip(*line3)\n",
    "(line4_xs, line4_ys) = zip(*line4)\n",
    "(line5_xs, line5_ys) = zip(*line5)\n",
    "\n",
    "ax.add_line(Line2D(line1_xs, line1_ys, linewidth=0.5, color='k', linestyle='--',alpha=0.4))\n",
    "ax.add_line(Line2D(line2_xs, line2_ys, linewidth=0.5, color='k', linestyle='--',alpha=0.4))\n",
    "ax.add_line(Line2D(line3_xs, line3_ys, linewidth=0.5, color='k', linestyle='--',alpha=0.4))\n",
    "ax.add_line(Line2D(line4_xs, line4_ys, linewidth=0.5, color='k', linestyle='--',alpha=0.4))\n",
    "ax.add_line(Line2D(line5_xs, line5_ys, linewidth=0.5, color='k', linestyle='--',alpha=0.4))\n",
    "\n",
    "\n",
    "# 字体设置\n",
    "font1 = {'family' : 'DejaVu Sans',\n",
    "'weight' : 'normal',\n",
    "'size'   : 8,\n",
    "}\n",
    "\n",
    "# 设置刻度线，本例子中设置为0\n",
    "for line in ax.yaxis.get_ticklines():\n",
    "    # line is a Line2D instance\n",
    "    line.set_color('green')\n",
    "    line.set_markersize(5)\n",
    "    line.set_markeredgewidth(0)\n",
    "    \n",
    "# 设置坐标标注、刻度\n",
    "ax.set_xlabel('Time [s]', font1)\n",
    "ax.set_xticks( np.arange(0 ,time_duation, 0.6)  )\n",
    "\n",
    "ax.set_yticks([d+high_each/2.0,high_each+2*d+high_each/2.0, 2*high_each+3*d+ high_each/2.0, 3*high_each+4*d +high_each/2.0])\n",
    "ax.set_yticklabels([\"LF\", \"RF\",'LH','RH'])\n",
    "ax.tick_params(labelsize=8)\n",
    "\n",
    "\n",
    "ax.set_xlim([0, time_duation])\n",
    "\n",
    "\n",
    "fig.set_size_inches(8.5/2.54 ,8.5/2.54* (1/2.5))\n",
    "fig.subplots_adjust(left=0.15, bottom = 0.2)\n",
    "plt.savefig(save_fig_path+'/contact_phase.svg', dpi=600,  pad_inches=0 )\n",
    "plt.show()\n"
   ]
  },
  {
   "cell_type": "code",
   "execution_count": 77,
   "metadata": {},
   "outputs": [
    {
     "data": {
      "text/plain": [
       "[[0.0, 0.48], [0.99, 0.48], [1.98, 0.48], [2.96, 0.13]]"
      ]
     },
     "execution_count": 77,
     "metadata": {},
     "output_type": "execute_result"
    }
   ],
   "source": [
    "a = [[0,  48],  [99,  48],   [198,  48],  [296, 13]]\n",
    "\n",
    "\n"
   ]
  },
  {
   "cell_type": "markdown",
   "metadata": {},
   "source": [
    "## Summary"
   ]
  },
  {
   "cell_type": "code",
   "execution_count": 26,
   "metadata": {},
   "outputs": [
    {
     "data": {
      "image/png": "[encoded data removed]",
      "text/plain": [
       "<Figure size 232.441x92.9764 with 1 Axes>"
      ]
     },
     "metadata": {
      "needs_background": "light"
     },
     "output_type": "display_data"
    }
   ],
   "source": [
    "import matplotlib.pyplot as plt\n",
    "import mpl_toolkits.axisartist as axisartist\n",
    "\n",
    "fig = plt.figure(figsize=(8, 3))\n",
    "ax = fig.add_subplot(axisartist.Subplot(fig, \"111\"))\n",
    " \n",
    "high_each =5\n",
    "d=2\n",
    "ax.broken_barh( lf_t,  (3*high_each+4*d, high_each), facecolors='red')\n",
    "ax.broken_barh( rf_t, (2*high_each+3*d, high_each), facecolors='teal')\n",
    "ax.broken_barh( lh_t, (high_each+2*d, high_each), facecolors='maroon')\n",
    "ax.broken_barh( rh_t, (d, high_each), facecolors='orange')\n",
    "\n",
    "\n",
    "# 创建两条线，并添加\n",
    "from matplotlib.lines import Line2D\n",
    "line1 = [(0.6, 0.02), (0.6, 30)]\n",
    "line2 = [(1.2, 0.02), (1.2, 30)]\n",
    "line3 = [(1.8, 0.02), (1.8, 30)]\n",
    "line4 = [(2.4, 0.02), (2.4, 30)]\n",
    "line5 = [(3.0, 0.02), (3.0, 30)]\n",
    "(line1_xs, line1_ys) = zip(*line1)\n",
    "(line2_xs, line2_ys) = zip(*line2)\n",
    "(line3_xs, line3_ys) = zip(*line3)\n",
    "(line4_xs, line4_ys) = zip(*line4)\n",
    "(line5_xs, line5_ys) = zip(*line5)\n",
    "\n",
    "ax.add_line(Line2D(line1_xs, line1_ys, linewidth=0.5, color='k', linestyle='--',alpha=0.4))\n",
    "ax.add_line(Line2D(line2_xs, line2_ys, linewidth=0.5, color='k', linestyle='--',alpha=0.4))\n",
    "ax.add_line(Line2D(line3_xs, line3_ys, linewidth=0.5, color='k', linestyle='--',alpha=0.4))\n",
    "ax.add_line(Line2D(line4_xs, line4_ys, linewidth=0.5, color='k', linestyle='--',alpha=0.4))\n",
    "ax.add_line(Line2D(line5_xs, line5_ys, linewidth=0.5, color='k', linestyle='--',alpha=0.4))\n",
    "\n",
    "\n",
    "\n",
    "# 字体设置\n",
    "font1 = {'family' : 'DejaVu Sans',\n",
    "'weight' : 'normal',\n",
    "'size'   : 6,\n",
    "}\n",
    "\n",
    "# 设置刻度线，本例子中设置为0\n",
    "for line in ax.yaxis.get_ticklines():\n",
    "    # line is a Line2D instance\n",
    "    line.set_color('green')\n",
    "    line.set_markersize(25)\n",
    "    line.set_markeredgewidth(0)\n",
    "    \n",
    "# 设置坐标标注、刻度\n",
    "ax.set_xlabel('Time [s]', font1)\n",
    "ax.set_xticks( np.arange(0 ,time_duation, 0.6)  )\n",
    "\n",
    "ax.set_yticks([d+high_each/2.0,high_each+2*d+high_each/2.0, 2*high_each+3*d+ high_each/2.0, 3*high_each+4*d +high_each/2.0])\n",
    "ax.set_yticklabels([\"LF\", \"RF\",'LH','RH'])\n",
    "ax.tick_params(labelsize=10)\n",
    "\n",
    "\n",
    "ax.set_xlim([0, time_duation])\n",
    "\n",
    "\n",
    "fig.set_size_inches(8.2/2.54 ,8.2/2.54* (1/2.5))\n",
    "fig.subplots_adjust(left=0.15, bottom = 0.15)\n",
    "plt.savefig(save_fig_path+'/contact_phase.svg', dpi=600,  pad_inches=0 )\n",
    "plt.show()"
   ]
  },
  {
   "cell_type": "code",
   "execution_count": 193,
   "metadata": {},
   "outputs": [
    {
     "data": {
      "text/html": [
       "<div>\n",
       "<style scoped>\n",
       "    .dataframe tbody tr th:only-of-type {\n",
       "        vertical-align: middle;\n",
       "    }\n",
       "\n",
       "    .dataframe tbody tr th {\n",
       "        vertical-align: top;\n",
       "    }\n",
       "\n",
       "    .dataframe thead th {\n",
       "        text-align: right;\n",
       "    }\n",
       "</style>\n",
       "<table border=\"1\" class=\"dataframe\">\n",
       "  <thead>\n",
       "    <tr style=\"text-align: right;\">\n",
       "      <th></th>\n",
       "      <th>0.05</th>\n",
       "      <th>0.075</th>\n",
       "      <th>0.1</th>\n",
       "      <th>0.125</th>\n",
       "      <th>0.15</th>\n",
       "      <th>0.175</th>\n",
       "      <th>0.2</th>\n",
       "    </tr>\n",
       "  </thead>\n",
       "  <tbody>\n",
       "    <tr>\n",
       "      <th>0</th>\n",
       "      <td>0.039110</td>\n",
       "      <td>0.037835</td>\n",
       "      <td>0.039966</td>\n",
       "      <td>0.042999</td>\n",
       "      <td>0.048577</td>\n",
       "      <td>0.058991</td>\n",
       "      <td>0.077436</td>\n",
       "    </tr>\n",
       "    <tr>\n",
       "      <th>1</th>\n",
       "      <td>0.039047</td>\n",
       "      <td>0.037474</td>\n",
       "      <td>0.040014</td>\n",
       "      <td>0.041876</td>\n",
       "      <td>0.049208</td>\n",
       "      <td>0.059738</td>\n",
       "      <td>0.069772</td>\n",
       "    </tr>\n",
       "    <tr>\n",
       "      <th>2</th>\n",
       "      <td>0.038184</td>\n",
       "      <td>0.037633</td>\n",
       "      <td>0.039030</td>\n",
       "      <td>0.040552</td>\n",
       "      <td>0.046902</td>\n",
       "      <td>0.054515</td>\n",
       "      <td>0.075172</td>\n",
       "    </tr>\n",
       "    <tr>\n",
       "      <th>3</th>\n",
       "      <td>0.038009</td>\n",
       "      <td>0.037024</td>\n",
       "      <td>0.038497</td>\n",
       "      <td>0.040851</td>\n",
       "      <td>0.047342</td>\n",
       "      <td>0.060774</td>\n",
       "      <td>0.077535</td>\n",
       "    </tr>\n",
       "    <tr>\n",
       "      <th>4</th>\n",
       "      <td>0.037460</td>\n",
       "      <td>0.036810</td>\n",
       "      <td>0.039643</td>\n",
       "      <td>0.042323</td>\n",
       "      <td>0.045712</td>\n",
       "      <td>0.059206</td>\n",
       "      <td>0.076743</td>\n",
       "    </tr>\n",
       "  </tbody>\n",
       "</table>\n",
       "</div>"
      ],
      "text/plain": [
       "      0.050     0.075     0.100     0.125     0.150     0.175     0.200\n",
       "0  0.039110  0.037835  0.039966  0.042999  0.048577  0.058991  0.077436\n",
       "1  0.039047  0.037474  0.040014  0.041876  0.049208  0.059738  0.069772\n",
       "2  0.038184  0.037633  0.039030  0.040552  0.046902  0.054515  0.075172\n",
       "3  0.038009  0.037024  0.038497  0.040851  0.047342  0.060774  0.077535\n",
       "4  0.037460  0.036810  0.039643  0.042323  0.045712  0.059206  0.076743"
      ]
     },
     "execution_count": 193,
     "metadata": {},
     "output_type": "execute_result"
    }
   ],
   "source": [
    "results_df = pd.DataFrame(command_error_result)\n",
    "results_df"
   ]
  },
  {
   "cell_type": "code",
   "execution_count": 194,
   "metadata": {},
   "outputs": [
    {
     "data": {
      "text/html": [
       "<div>\n",
       "<style scoped>\n",
       "    .dataframe tbody tr th:only-of-type {\n",
       "        vertical-align: middle;\n",
       "    }\n",
       "\n",
       "    .dataframe tbody tr th {\n",
       "        vertical-align: top;\n",
       "    }\n",
       "\n",
       "    .dataframe thead th {\n",
       "        text-align: right;\n",
       "    }\n",
       "</style>\n",
       "<table border=\"1\" class=\"dataframe\">\n",
       "  <thead>\n",
       "    <tr style=\"text-align: right;\">\n",
       "      <th></th>\n",
       "      <th>0.05</th>\n",
       "      <th>0.075</th>\n",
       "      <th>0.1</th>\n",
       "      <th>0.125</th>\n",
       "      <th>0.15</th>\n",
       "      <th>0.175</th>\n",
       "      <th>0.2</th>\n",
       "    </tr>\n",
       "  </thead>\n",
       "  <tbody>\n",
       "    <tr>\n",
       "      <th>0</th>\n",
       "      <td>0.039110</td>\n",
       "      <td>0.037835</td>\n",
       "      <td>0.039966</td>\n",
       "      <td>0.042999</td>\n",
       "      <td>0.048577</td>\n",
       "      <td>0.058991</td>\n",
       "      <td>0.077436</td>\n",
       "    </tr>\n",
       "    <tr>\n",
       "      <th>1</th>\n",
       "      <td>0.039047</td>\n",
       "      <td>0.037474</td>\n",
       "      <td>0.040014</td>\n",
       "      <td>0.041876</td>\n",
       "      <td>0.049208</td>\n",
       "      <td>0.059738</td>\n",
       "      <td>0.069772</td>\n",
       "    </tr>\n",
       "    <tr>\n",
       "      <th>2</th>\n",
       "      <td>0.038184</td>\n",
       "      <td>0.037633</td>\n",
       "      <td>0.039030</td>\n",
       "      <td>0.040552</td>\n",
       "      <td>0.046902</td>\n",
       "      <td>0.054515</td>\n",
       "      <td>0.075172</td>\n",
       "    </tr>\n",
       "    <tr>\n",
       "      <th>3</th>\n",
       "      <td>0.038009</td>\n",
       "      <td>0.037024</td>\n",
       "      <td>0.038497</td>\n",
       "      <td>0.040851</td>\n",
       "      <td>0.047342</td>\n",
       "      <td>0.060774</td>\n",
       "      <td>0.077535</td>\n",
       "    </tr>\n",
       "    <tr>\n",
       "      <th>4</th>\n",
       "      <td>0.037460</td>\n",
       "      <td>0.036810</td>\n",
       "      <td>0.039643</td>\n",
       "      <td>0.042323</td>\n",
       "      <td>0.045712</td>\n",
       "      <td>0.059206</td>\n",
       "      <td>0.076743</td>\n",
       "    </tr>\n",
       "  </tbody>\n",
       "</table>\n",
       "</div>"
      ],
      "text/plain": [
       "      0.050     0.075     0.100     0.125     0.150     0.175     0.200\n",
       "0  0.039110  0.037835  0.039966  0.042999  0.048577  0.058991  0.077436\n",
       "1  0.039047  0.037474  0.040014  0.041876  0.049208  0.059738  0.069772\n",
       "2  0.038184  0.037633  0.039030  0.040552  0.046902  0.054515  0.075172\n",
       "3  0.038009  0.037024  0.038497  0.040851  0.047342  0.060774  0.077535\n",
       "4  0.037460  0.036810  0.039643  0.042323  0.045712  0.059206  0.076743"
      ]
     },
     "execution_count": 194,
     "metadata": {},
     "output_type": "execute_result"
    }
   ],
   "source": [
    "results_df = pd.DataFrame(command_error_result)\n",
    "results_df.to_csv(save_fig_path+'/results_vel_mse.csv')\n",
    "IO(save_fig_path+'/results_vel_mse.pkl').to_pickle(results_df)\n",
    "results_df"
   ]
  },
  {
   "cell_type": "code",
   "execution_count": 197,
   "metadata": {},
   "outputs": [
    {
     "data": {
      "text/html": [
       "<div>\n",
       "<style scoped>\n",
       "    .dataframe tbody tr th:only-of-type {\n",
       "        vertical-align: middle;\n",
       "    }\n",
       "\n",
       "    .dataframe tbody tr th {\n",
       "        vertical-align: top;\n",
       "    }\n",
       "\n",
       "    .dataframe thead th {\n",
       "        text-align: right;\n",
       "    }\n",
       "</style>\n",
       "<table border=\"1\" class=\"dataframe\">\n",
       "  <thead>\n",
       "    <tr style=\"text-align: right;\">\n",
       "      <th></th>\n",
       "      <th>0.05</th>\n",
       "      <th>0.075</th>\n",
       "      <th>0.1</th>\n",
       "      <th>0.125</th>\n",
       "      <th>0.15</th>\n",
       "      <th>0.175</th>\n",
       "      <th>0.2</th>\n",
       "    </tr>\n",
       "  </thead>\n",
       "  <tbody>\n",
       "    <tr>\n",
       "      <th>0</th>\n",
       "      <td>0.029286</td>\n",
       "      <td>0.028743</td>\n",
       "      <td>0.063258</td>\n",
       "      <td>0.125413</td>\n",
       "      <td>0.043143</td>\n",
       "      <td>0.101098</td>\n",
       "      <td>0.092180</td>\n",
       "    </tr>\n",
       "    <tr>\n",
       "      <th>1</th>\n",
       "      <td>0.034856</td>\n",
       "      <td>0.025132</td>\n",
       "      <td>0.119723</td>\n",
       "      <td>0.034424</td>\n",
       "      <td>0.147540</td>\n",
       "      <td>0.021108</td>\n",
       "      <td>0.083152</td>\n",
       "    </tr>\n",
       "    <tr>\n",
       "      <th>2</th>\n",
       "      <td>0.078547</td>\n",
       "      <td>0.063417</td>\n",
       "      <td>0.039063</td>\n",
       "      <td>0.029803</td>\n",
       "      <td>0.024474</td>\n",
       "      <td>0.032945</td>\n",
       "      <td>0.045252</td>\n",
       "    </tr>\n",
       "    <tr>\n",
       "      <th>3</th>\n",
       "      <td>0.148864</td>\n",
       "      <td>0.149969</td>\n",
       "      <td>0.027789</td>\n",
       "      <td>0.080640</td>\n",
       "      <td>0.060453</td>\n",
       "      <td>0.080659</td>\n",
       "      <td>0.081539</td>\n",
       "    </tr>\n",
       "    <tr>\n",
       "      <th>4</th>\n",
       "      <td>0.040999</td>\n",
       "      <td>0.058526</td>\n",
       "      <td>0.084277</td>\n",
       "      <td>0.062029</td>\n",
       "      <td>0.085418</td>\n",
       "      <td>0.067996</td>\n",
       "      <td>0.044202</td>\n",
       "    </tr>\n",
       "  </tbody>\n",
       "</table>\n",
       "</div>"
      ],
      "text/plain": [
       "      0.050     0.075     0.100     0.125     0.150     0.175     0.200\n",
       "0  0.029286  0.028743  0.063258  0.125413  0.043143  0.101098  0.092180\n",
       "1  0.034856  0.025132  0.119723  0.034424  0.147540  0.021108  0.083152\n",
       "2  0.078547  0.063417  0.039063  0.029803  0.024474  0.032945  0.045252\n",
       "3  0.148864  0.149969  0.027789  0.080640  0.060453  0.080659  0.081539\n",
       "4  0.040999  0.058526  0.084277  0.062029  0.085418  0.067996  0.044202"
      ]
     },
     "execution_count": 197,
     "metadata": {},
     "output_type": "execute_result"
    }
   ],
   "source": [
    "mse_results_df = pd.DataFrame(y_pose_mse_results_df)\n",
    "mse_results_df.to_csv(save_fig_path+'/results_ypos_mse.csv')\n",
    "IO(save_fig_path+'/results_ypos_mse.pkl').to_pickle(mse_results_df)\n",
    "mse_results_df"
   ]
  },
  {
   "cell_type": "code",
   "execution_count": 173,
   "metadata": {},
   "outputs": [
    {
     "data": {
      "text/html": [
       "<div>\n",
       "<style scoped>\n",
       "    .dataframe tbody tr th:only-of-type {\n",
       "        vertical-align: middle;\n",
       "    }\n",
       "\n",
       "    .dataframe tbody tr th {\n",
       "        vertical-align: top;\n",
       "    }\n",
       "\n",
       "    .dataframe thead th {\n",
       "        text-align: right;\n",
       "    }\n",
       "</style>\n",
       "<table border=\"1\" class=\"dataframe\">\n",
       "  <thead>\n",
       "    <tr style=\"text-align: right;\">\n",
       "      <th></th>\n",
       "      <th>0.05</th>\n",
       "      <th>0.075</th>\n",
       "      <th>0.1</th>\n",
       "      <th>0.125</th>\n",
       "      <th>0.15</th>\n",
       "      <th>0.175</th>\n",
       "      <th>0.2</th>\n",
       "    </tr>\n",
       "  </thead>\n",
       "  <tbody>\n",
       "    <tr>\n",
       "      <th>0</th>\n",
       "      <td>0.015190</td>\n",
       "      <td>0.018597</td>\n",
       "      <td>0.037585</td>\n",
       "      <td>0.060443</td>\n",
       "      <td>0.066372</td>\n",
       "      <td>0.077344</td>\n",
       "      <td>0.078429</td>\n",
       "    </tr>\n",
       "    <tr>\n",
       "      <th>1</th>\n",
       "      <td>0.017906</td>\n",
       "      <td>0.022094</td>\n",
       "      <td>0.042478</td>\n",
       "      <td>0.055060</td>\n",
       "      <td>0.071258</td>\n",
       "      <td>0.067819</td>\n",
       "      <td>0.082003</td>\n",
       "    </tr>\n",
       "    <tr>\n",
       "      <th>2</th>\n",
       "      <td>0.009766</td>\n",
       "      <td>0.016958</td>\n",
       "      <td>0.038007</td>\n",
       "      <td>0.061148</td>\n",
       "      <td>0.070176</td>\n",
       "      <td>0.077780</td>\n",
       "      <td>0.074659</td>\n",
       "    </tr>\n",
       "    <tr>\n",
       "      <th>3</th>\n",
       "      <td>0.019249</td>\n",
       "      <td>0.028961</td>\n",
       "      <td>0.036385</td>\n",
       "      <td>0.056228</td>\n",
       "      <td>0.064524</td>\n",
       "      <td>0.072837</td>\n",
       "      <td>0.076394</td>\n",
       "    </tr>\n",
       "    <tr>\n",
       "      <th>4</th>\n",
       "      <td>0.016726</td>\n",
       "      <td>0.023541</td>\n",
       "      <td>0.033730</td>\n",
       "      <td>0.052321</td>\n",
       "      <td>0.071710</td>\n",
       "      <td>0.070504</td>\n",
       "      <td>0.071471</td>\n",
       "    </tr>\n",
       "  </tbody>\n",
       "</table>\n",
       "</div>"
      ],
      "text/plain": [
       "      0.050     0.075     0.100     0.125     0.150     0.175     0.200\n",
       "0  0.015190  0.018597  0.037585  0.060443  0.066372  0.077344  0.078429\n",
       "1  0.017906  0.022094  0.042478  0.055060  0.071258  0.067819  0.082003\n",
       "2  0.009766  0.016958  0.038007  0.061148  0.070176  0.077780  0.074659\n",
       "3  0.019249  0.028961  0.036385  0.056228  0.064524  0.072837  0.076394\n",
       "4  0.016726  0.023541  0.033730  0.052321  0.071710  0.070504  0.071471"
      ]
     },
     "execution_count": 173,
     "metadata": {},
     "output_type": "execute_result"
    }
   ],
   "source": [
    " "
   ]
  },
  {
   "cell_type": "code",
   "execution_count": 174,
   "metadata": {},
   "outputs": [
    {
     "data": {
      "text/plain": [
       "0.05"
      ]
     },
     "execution_count": 174,
     "metadata": {},
     "output_type": "execute_result"
    }
   ],
   "source": [
    " "
   ]
  },
  {
   "cell_type": "code",
   "execution_count": 175,
   "metadata": {},
   "outputs": [
    {
     "data": {
      "text/plain": [
       "0    0.015190\n",
       "1    0.017906\n",
       "2    0.009766\n",
       "3    0.019249\n",
       "4    0.016726\n",
       "Name: 0.05, dtype: float64"
      ]
     },
     "execution_count": 175,
     "metadata": {},
     "output_type": "execute_result"
    }
   ],
   "source": [
    " "
   ]
  },
  {
   "cell_type": "code",
   "execution_count": 176,
   "metadata": {},
   "outputs": [
    {
     "data": {
      "image/png": "[encoded data removed]",
      "text/plain": [
       "<Figure size 432x288 with 1 Axes>"
      ]
     },
     "metadata": {
      "needs_background": "light"
     },
     "output_type": "display_data"
    }
   ],
   "source": [
    "for i in range(5):\n",
    "    plt.scatter(results_df.columns[0], result_df[0.05][i] ,marker='x', color='red')\n",
    "    plt.scatter(results_df.columns[2], result_df[0.1][i] ,marker='x', color='red')\n",
    "    plt.scatter(results_df.columns[4], result_df[0.15][i] ,marker='x', color='red')\n",
    "    plt.scatter(results_df.columns[6], result_df[0.2][i] ,marker='x', color='red')"
   ]
  },
  {
   "cell_type": "code",
   "execution_count": null,
   "metadata": {
    "collapsed": true
   },
   "outputs": [],
   "source": []
  },
  {
   "cell_type": "code",
   "execution_count": null,
   "metadata": {
    "collapsed": true
   },
   "outputs": [],
   "source": []
  },
  {
   "cell_type": "code",
   "execution_count": null,
   "metadata": {
    "collapsed": true
   },
   "outputs": [],
   "source": []
  },
  {
   "cell_type": "code",
   "execution_count": null,
   "metadata": {
    "collapsed": true
   },
   "outputs": [],
   "source": []
  },
  {
   "cell_type": "code",
   "execution_count": 79,
   "metadata": {},
   "outputs": [
    {
     "data": {
      "text/plain": [
       "(2000, 3)"
      ]
     },
     "execution_count": 79,
     "metadata": {},
     "output_type": "execute_result"
    }
   ],
   "source": [
    "com  = pd.read_csv('eval/com_s1.csv')\n",
    "command =np.array(com)\n",
    "command.shape"
   ]
  },
  {
   "cell_type": "code",
   "execution_count": 82,
   "metadata": {
    "collapsed": true
   },
   "outputs": [],
   "source": [
    "IO('data/cmd_s1.pkl').to_pickle(command)\n"
   ]
  },
  {
   "cell_type": "code",
   "execution_count": 85,
   "metadata": {},
   "outputs": [
    {
     "data": {
      "text/plain": [
       "array([[0.05 , 0.   , 0.   ],\n",
       "       [0.05 , 0.   , 0.   ],\n",
       "       [0.05 , 0.   , 0.   ],\n",
       "       ...,\n",
       "       [0.075, 0.   , 0.   ],\n",
       "       [0.075, 0.   , 0.   ],\n",
       "       [0.075, 0.   , 0.   ]])"
      ]
     },
     "execution_count": 85,
     "metadata": {},
     "output_type": "execute_result"
    }
   ],
   "source": [
    "a = IO('data/cmd_s1.pkl').read_pickle()\n",
    "a"
   ]
  },
  {
   "cell_type": "code",
   "execution_count": null,
   "metadata": {
    "collapsed": true
   },
   "outputs": [],
   "source": [
    "df = pd.DataFrame({'con1':a, 'con2':b}, index = [1])\n",
    "df2 = pd.DataFrame({'con1':a, 'con2':b, 'con3':c}, index =[2])\n",
    "pd.concat([df1, df2], axis=0, join='outer')"
   ]
  },
  {
   "cell_type": "code",
   "execution_count": 35,
   "metadata": {
    "collapsed": true
   },
   "outputs": [],
   "source": [
    "df = pd.DataFrame( )"
   ]
  },
  {
   "cell_type": "code",
   "execution_count": 47,
   "metadata": {},
   "outputs": [
    {
     "data": {
      "text/html": [
       "<div>\n",
       "<style scoped>\n",
       "    .dataframe tbody tr th:only-of-type {\n",
       "        vertical-align: middle;\n",
       "    }\n",
       "\n",
       "    .dataframe tbody tr th {\n",
       "        vertical-align: top;\n",
       "    }\n",
       "\n",
       "    .dataframe thead th {\n",
       "        text-align: right;\n",
       "    }\n",
       "</style>\n",
       "<table border=\"1\" class=\"dataframe\">\n",
       "  <thead>\n",
       "    <tr style=\"text-align: right;\">\n",
       "      <th></th>\n",
       "      <th>con1</th>\n",
       "      <th>con2</th>\n",
       "    </tr>\n",
       "  </thead>\n",
       "  <tbody>\n",
       "    <tr>\n",
       "      <th>0</th>\n",
       "      <td>1</td>\n",
       "      <td>10</td>\n",
       "    </tr>\n",
       "    <tr>\n",
       "      <th>1</th>\n",
       "      <td>2</td>\n",
       "      <td>11</td>\n",
       "    </tr>\n",
       "    <tr>\n",
       "      <th>2</th>\n",
       "      <td>3</td>\n",
       "      <td>12</td>\n",
       "    </tr>\n",
       "  </tbody>\n",
       "</table>\n",
       "</div>"
      ],
      "text/plain": [
       "   con1  con2\n",
       "0     1    10\n",
       "1     2    11\n",
       "2     3    12"
      ]
     },
     "execution_count": 47,
     "metadata": {},
     "output_type": "execute_result"
    }
   ],
   "source": [
    "a = np.array([1,2,3,4])  \n",
    "b = np.array([10,11,12]) \n",
    "c = np.array([20,21,22]) \n",
    "pd.DataFrame({'con1':[1,2,3], 'con2':[10,11,12]})"
   ]
  },
  {
   "cell_type": "code",
   "execution_count": 32,
   "metadata": {},
   "outputs": [
    {
     "name": "stdout",
     "output_type": "stream",
     "text": [
      "0\n"
     ]
    },
    {
     "ename": "ValueError",
     "evalue": "cannot set a row with mismatched columns",
     "traceback": [
      "\u001b[0;31m---------------------------------------------------------------------------\u001b[0m",
      "\u001b[0;31mValueError\u001b[0m                                Traceback (most recent call last)",
      "\u001b[0;32m<ipython-input-32-4c8f0857dc7c>\u001b[0m in \u001b[0;36m<module>\u001b[0;34m()\u001b[0m\n\u001b[1;32m      2\u001b[0m     \u001b[0mprint\u001b[0m\u001b[0;34m(\u001b[0m\u001b[0mi\u001b[0m\u001b[0;34m)\u001b[0m\u001b[0;34m\u001b[0m\u001b[0m\n\u001b[1;32m      3\u001b[0m \u001b[0;34m\u001b[0m\u001b[0m\n\u001b[0;32m----> 4\u001b[0;31m     \u001b[0mdf\u001b[0m\u001b[0;34m.\u001b[0m\u001b[0mloc\u001b[0m\u001b[0;34m[\u001b[0m\u001b[0mi\u001b[0m\u001b[0;34m]\u001b[0m \u001b[0;34m=\u001b[0m \u001b[0;34m{\u001b[0m\u001b[0;36m0\u001b[0m\u001b[0;34m:\u001b[0m\u001b[0ma\u001b[0m\u001b[0;34m,\u001b[0m \u001b[0;36m1\u001b[0m\u001b[0;34m:\u001b[0m\u001b[0mb\u001b[0m\u001b[0;34m}\u001b[0m\u001b[0;34m\u001b[0m\u001b[0m\n\u001b[0m",
      "\u001b[0;32m~/anaconda3/envs/mujoco150/lib/python3.5/site-packages/pandas-0.22.0-py3.5-linux-x86_64.egg/pandas/core/indexing.py\u001b[0m in \u001b[0;36m__setitem__\u001b[0;34m(self, key, value)\u001b[0m\n\u001b[1;32m    192\u001b[0m             \u001b[0mkey\u001b[0m \u001b[0;34m=\u001b[0m \u001b[0mcom\u001b[0m\u001b[0;34m.\u001b[0m\u001b[0m_apply_if_callable\u001b[0m\u001b[0;34m(\u001b[0m\u001b[0mkey\u001b[0m\u001b[0;34m,\u001b[0m \u001b[0mself\u001b[0m\u001b[0;34m.\u001b[0m\u001b[0mobj\u001b[0m\u001b[0;34m)\u001b[0m\u001b[0;34m\u001b[0m\u001b[0m\n\u001b[1;32m    193\u001b[0m         \u001b[0mindexer\u001b[0m \u001b[0;34m=\u001b[0m \u001b[0mself\u001b[0m\u001b[0;34m.\u001b[0m\u001b[0m_get_setitem_indexer\u001b[0m\u001b[0;34m(\u001b[0m\u001b[0mkey\u001b[0m\u001b[0;34m)\u001b[0m\u001b[0;34m\u001b[0m\u001b[0m\n\u001b[0;32m--> 194\u001b[0;31m         \u001b[0mself\u001b[0m\u001b[0;34m.\u001b[0m\u001b[0m_setitem_with_indexer\u001b[0m\u001b[0;34m(\u001b[0m\u001b[0mindexer\u001b[0m\u001b[0;34m,\u001b[0m \u001b[0mvalue\u001b[0m\u001b[0;34m)\u001b[0m\u001b[0;34m\u001b[0m\u001b[0m\n\u001b[0m\u001b[1;32m    195\u001b[0m \u001b[0;34m\u001b[0m\u001b[0m\n\u001b[1;32m    196\u001b[0m     \u001b[0;32mdef\u001b[0m \u001b[0m_has_valid_type\u001b[0m\u001b[0;34m(\u001b[0m\u001b[0mself\u001b[0m\u001b[0;34m,\u001b[0m \u001b[0mk\u001b[0m\u001b[0;34m,\u001b[0m \u001b[0maxis\u001b[0m\u001b[0;34m)\u001b[0m\u001b[0;34m:\u001b[0m\u001b[0;34m\u001b[0m\u001b[0m\n",
      "\u001b[0;32m~/anaconda3/envs/mujoco150/lib/python3.5/site-packages/pandas-0.22.0-py3.5-linux-x86_64.egg/pandas/core/indexing.py\u001b[0m in \u001b[0;36m_setitem_with_indexer\u001b[0;34m(self, indexer, value)\u001b[0m\n\u001b[1;32m    437\u001b[0m                         \u001b[0;32mif\u001b[0m \u001b[0mis_list_like_indexer\u001b[0m\u001b[0;34m(\u001b[0m\u001b[0mvalue\u001b[0m\u001b[0;34m)\u001b[0m\u001b[0;34m:\u001b[0m\u001b[0;34m\u001b[0m\u001b[0m\n\u001b[1;32m    438\u001b[0m                             \u001b[0;32mif\u001b[0m \u001b[0mlen\u001b[0m\u001b[0;34m(\u001b[0m\u001b[0mvalue\u001b[0m\u001b[0;34m)\u001b[0m \u001b[0;34m!=\u001b[0m \u001b[0mlen\u001b[0m\u001b[0;34m(\u001b[0m\u001b[0mself\u001b[0m\u001b[0;34m.\u001b[0m\u001b[0mobj\u001b[0m\u001b[0;34m.\u001b[0m\u001b[0mcolumns\u001b[0m\u001b[0;34m)\u001b[0m\u001b[0;34m:\u001b[0m\u001b[0;34m\u001b[0m\u001b[0m\n\u001b[0;32m--> 439\u001b[0;31m                                 raise ValueError(\"cannot set a row with \"\n\u001b[0m\u001b[1;32m    440\u001b[0m                                                  \"mismatched columns\")\n\u001b[1;32m    441\u001b[0m \u001b[0;34m\u001b[0m\u001b[0m\n",
      "\u001b[0;31mValueError\u001b[0m: cannot set a row with mismatched columns"
     ],
     "output_type": "error"
    }
   ],
   "source": [
    "for i in range(10):\n",
    "    print(i)\n",
    "    df = pd.DataFrame(a)\n",
    "    "
   ]
  },
  {
   "cell_type": "code",
   "execution_count": 24,
   "metadata": {},
   "outputs": [
    {
     "data": {
      "text/plain": [
       "[0, 1, 2, 3, 4, 5, 6, 7, 8, 9]"
      ]
     },
     "execution_count": 24,
     "metadata": {},
     "output_type": "execute_result"
    }
   ],
   "source": [
    "list(range(10))\n"
   ]
  },
  {
   "cell_type": "code",
   "execution_count": null,
   "metadata": {
    "collapsed": true
   },
   "outputs": [],
   "source": []
  }
 ],
 "metadata": {
  "kernelspec": {
   "display_name": "mujoco150",
   "language": "python",
   "name": "mujoco150"
  },
  "language_info": {
   "codemirror_mode": {
    "name": "ipython",
    "version": 3
   },
   "file_extension": ".py",
   "mimetype": "text/x-python",
   "name": "python",
   "nbconvert_exporter": "python",
   "pygments_lexer": "ipython3",
   "version": "3.5.2"
  }
 },
 "nbformat": 4,
 "nbformat_minor": 1
}
